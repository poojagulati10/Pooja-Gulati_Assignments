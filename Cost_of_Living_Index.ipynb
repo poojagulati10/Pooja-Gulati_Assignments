{
  "nbformat": 4,
  "nbformat_minor": 0,
  "metadata": {
    "colab": {
      "name": "Cost of Living Index.ipynb",
      "provenance": [],
      "authorship_tag": "ABX9TyNFr9+QYOS3Sa9lrake/Nzq",
      "include_colab_link": true
    },
    "kernelspec": {
      "name": "python3",
      "display_name": "Python 3"
    },
    "language_info": {
      "name": "python"
    }
  },
  "cells": [
    {
      "cell_type": "markdown",
      "metadata": {
        "id": "view-in-github",
        "colab_type": "text"
      },
      "source": [
        "<a href=\"https://colab.research.google.com/github/poojagulati10/Pooja-Gulati_Assignments/blob/main/Cost_of_Living_Index.ipynb\" target=\"_parent\"><img src=\"https://colab.research.google.com/assets/colab-badge.svg\" alt=\"Open In Colab\"/></a>"
      ]
    },
    {
      "cell_type": "code",
      "execution_count": 1,
      "metadata": {
        "colab": {
          "base_uri": "https://localhost:8080/"
        },
        "id": "O9W13oNQ0dNJ",
        "outputId": "7124620f-fe3b-458c-ba99-af18fe6ff708"
      },
      "outputs": [
        {
          "output_type": "stream",
          "name": "stdout",
          "text": [
            "Looking in indexes: https://pypi.org/simple, https://us-python.pkg.dev/colab-wheels/public/simple/\n",
            "Collecting PySpark\n",
            "  Downloading pyspark-3.3.0.tar.gz (281.3 MB)\n",
            "\u001b[K     |████████████████████████████████| 281.3 MB 44 kB/s \n",
            "\u001b[?25hCollecting py4j==0.10.9.5\n",
            "  Downloading py4j-0.10.9.5-py2.py3-none-any.whl (199 kB)\n",
            "\u001b[K     |████████████████████████████████| 199 kB 36.4 MB/s \n",
            "\u001b[?25hBuilding wheels for collected packages: PySpark\n",
            "  Building wheel for PySpark (setup.py) ... \u001b[?25l\u001b[?25hdone\n",
            "  Created wheel for PySpark: filename=pyspark-3.3.0-py2.py3-none-any.whl size=281764026 sha256=ec02c5ffa0c941dc200b72133757034b8aa1d495e0c7226c6949467c2e68db64\n",
            "  Stored in directory: /root/.cache/pip/wheels/7a/8e/1b/f73a52650d2e5f337708d9f6a1750d451a7349a867f928b885\n",
            "Successfully built PySpark\n",
            "Installing collected packages: py4j, PySpark\n",
            "Successfully installed PySpark-3.3.0 py4j-0.10.9.5\n"
          ]
        }
      ],
      "source": [
        "!pip install PySpark"
      ]
    },
    {
      "cell_type": "code",
      "source": [
        "import pyspark"
      ],
      "metadata": {
        "id": "U1vc-ier0x5m"
      },
      "execution_count": 2,
      "outputs": []
    },
    {
      "cell_type": "code",
      "source": [
        "from pyspark.sql import SparkSession\n",
        "spark= SparkSession.builder.appName('CostofLiving').getOrCreate()"
      ],
      "metadata": {
        "id": "o-Y4Xy1V00gD"
      },
      "execution_count": 3,
      "outputs": []
    },
    {
      "cell_type": "code",
      "source": [
        "from google.colab import files\n",
        "uploaded = files.upload()"
      ],
      "metadata": {
        "colab": {
          "resources": {
            "http://localhost:8080/nbextensions/google.colab/files.js": {
              "data": "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",
              "ok": true,
              "headers": [
                [
                  "content-type",
                  "application/javascript"
                ]
              ],
              "status": 200,
              "status_text": ""
            }
          },
          "base_uri": "https://localhost:8080/",
          "height": 74
        },
        "id": "ZA2NZ65510ky",
        "outputId": "022f2041-8a26-4f77-bcae-5f7a3ceaacb6"
      },
      "execution_count": 4,
      "outputs": [
        {
          "output_type": "display_data",
          "data": {
            "text/plain": [
              "<IPython.core.display.HTML object>"
            ],
            "text/html": [
              "\n",
              "     <input type=\"file\" id=\"files-5f86dcb0-fb30-45eb-9862-abb262d5a5ae\" name=\"files[]\" multiple disabled\n",
              "        style=\"border:none\" />\n",
              "     <output id=\"result-5f86dcb0-fb30-45eb-9862-abb262d5a5ae\">\n",
              "      Upload widget is only available when the cell has been executed in the\n",
              "      current browser session. Please rerun this cell to enable.\n",
              "      </output>\n",
              "      <script src=\"/nbextensions/google.colab/files.js\"></script> "
            ]
          },
          "metadata": {}
        },
        {
          "output_type": "stream",
          "name": "stdout",
          "text": [
            "Saving Cost_of_Living_Index_2022.csv to Cost_of_Living_Index_2022.csv\n"
          ]
        }
      ]
    },
    {
      "cell_type": "code",
      "source": [
        "df_train = spark.read.csv('Cost_of_Living_Index_2022.csv', inferSchema=True, header = True)"
      ],
      "metadata": {
        "id": "jATYAc5y19Ct"
      },
      "execution_count": 5,
      "outputs": []
    },
    {
      "cell_type": "code",
      "source": [
        "df_train.show()"
      ],
      "metadata": {
        "colab": {
          "base_uri": "https://localhost:8080/"
        },
        "id": "zw3Ri5d52UaB",
        "outputId": "a915a7f9-0bf4-4892-8334-69c3d8dedf7b"
      },
      "execution_count": 6,
      "outputs": [
        {
          "output_type": "stream",
          "name": "stdout",
          "text": [
            "+----+--------------------+--------------------+----------+------------------------------+---------------+----------------------+----------------------------+\n",
            "|Rank|             Country|Cost of Living Index|Rent Index|Cost of Living Plus Rent Index|Groceries Index|Restaurant Price Index|Local Purchasing Power Index|\n",
            "+----+--------------------+--------------------+----------+------------------------------+---------------+----------------------+----------------------------+\n",
            "|   1|         Afghanistan|               20.37|      2.72|                         12.09|          14.92|                 12.41|                       23.04|\n",
            "|   2|             Albania|                35.5|      8.47|                         22.83|          29.32|                 25.82|                       30.19|\n",
            "|   3|             Algeria|               26.87|      4.59|                         16.43|          28.82|                 14.48|                       24.63|\n",
            "|   4|           Argentina|               34.69|      7.71|                         22.04|          28.17|                 33.32|                       30.72|\n",
            "|   5|             Armenia|               33.89|     11.61|                         23.45|          27.59|                 30.55|                       28.86|\n",
            "|   6|           Australia|               77.75|     36.84|                         58.57|          77.44|                 72.95|                      104.63|\n",
            "|   7|             Austria|               71.04|     27.13|                         50.46|          65.88|                 66.03|                       77.25|\n",
            "|   8|          Azerbaijan|               29.73|      7.86|                         19.48|          26.57|                 26.73|                       27.26|\n",
            "|   9|             Bahamas|                84.0|     35.34|                         61.19|          70.59|                 89.09|                       45.07|\n",
            "|  10|             Bahrain|               54.77|     29.22|                         42.79|          44.59|                 48.94|                       61.41|\n",
            "|  11|          Bangladesh|               33.13|      4.42|                         19.67|          30.41|                  21.7|                        25.3|\n",
            "|  12|            Barbados|               92.37|     21.99|                         59.38|          87.81|                 78.18|                       32.08|\n",
            "|  13|             Belarus|               30.89|      9.81|                         21.01|          27.24|                 31.64|                       31.78|\n",
            "|  14|             Belgium|               72.61|     25.79|                         50.67|          63.32|                 78.63|                       79.72|\n",
            "|  15|              Belize|                51.3|     11.64|                         32.71|          48.76|                  36.6|                       45.73|\n",
            "|  16|             Bermuda|              146.04|     98.58|                         123.8|         148.66|                159.17|                       81.07|\n",
            "|  17|             Bolivia|               34.77|     10.18|                         23.24|          31.26|                 24.97|                       36.04|\n",
            "|  18|Bosnia And Herzeg...|               36.12|      6.82|                         22.39|          31.14|                 25.34|                        44.1|\n",
            "|  19|            Botswana|               40.17|     10.21|                         26.12|          35.16|                  42.5|                       62.63|\n",
            "|  20|              Brazil|               33.24|      8.27|                         21.54|          28.16|                 25.24|                       27.85|\n",
            "+----+--------------------+--------------------+----------+------------------------------+---------------+----------------------+----------------------------+\n",
            "only showing top 20 rows\n",
            "\n"
          ]
        }
      ]
    },
    {
      "cell_type": "code",
      "source": [
        "df_train.printSchema()"
      ],
      "metadata": {
        "colab": {
          "base_uri": "https://localhost:8080/"
        },
        "id": "x7t0TH5F2ZTU",
        "outputId": "2fbb5d4a-cdd2-439a-ed20-6685c9a562ed"
      },
      "execution_count": 7,
      "outputs": [
        {
          "output_type": "stream",
          "name": "stdout",
          "text": [
            "root\n",
            " |-- Rank: integer (nullable = true)\n",
            " |-- Country: string (nullable = true)\n",
            " |-- Cost of Living Index: double (nullable = true)\n",
            " |-- Rent Index: double (nullable = true)\n",
            " |-- Cost of Living Plus Rent Index: double (nullable = true)\n",
            " |-- Groceries Index: double (nullable = true)\n",
            " |-- Restaurant Price Index: double (nullable = true)\n",
            " |-- Local Purchasing Power Index: double (nullable = true)\n",
            "\n"
          ]
        }
      ]
    },
    {
      "cell_type": "code",
      "source": [
        "df_train.columns"
      ],
      "metadata": {
        "colab": {
          "base_uri": "https://localhost:8080/"
        },
        "id": "ZU0GXBwn2d2u",
        "outputId": "ae1bda03-a48e-4466-977c-aa1d101da8c7"
      },
      "execution_count": 8,
      "outputs": [
        {
          "output_type": "execute_result",
          "data": {
            "text/plain": [
              "['Rank',\n",
              " 'Country',\n",
              " 'Cost of Living Index',\n",
              " 'Rent Index',\n",
              " 'Cost of Living Plus Rent Index',\n",
              " 'Groceries Index',\n",
              " 'Restaurant Price Index',\n",
              " 'Local Purchasing Power Index']"
            ]
          },
          "metadata": {},
          "execution_count": 8
        }
      ]
    },
    {
      "cell_type": "code",
      "source": [
        "#Vectorization\n",
        "from pyspark.ml.feature import VectorAssembler\n",
        "featureassembler=VectorAssembler(inputCols=['Rent Index','Cost of Living Plus Rent Index','Groceries Index','Restaurant Price Index','Local Purchasing Power Index'], outputCol='Independant Features')"
      ],
      "metadata": {
        "id": "KT2rllU52oHc"
      },
      "execution_count": 9,
      "outputs": []
    },
    {
      "cell_type": "code",
      "source": [
        "#transform each element of the input array + Independant features column\n",
        "output=featureassembler.transform(df_train)"
      ],
      "metadata": {
        "id": "iDk7jUg82vdj"
      },
      "execution_count": 10,
      "outputs": []
    },
    {
      "cell_type": "code",
      "source": [
        "output.show()"
      ],
      "metadata": {
        "colab": {
          "base_uri": "https://localhost:8080/"
        },
        "id": "hWzAn40G2zdA",
        "outputId": "eecabbb6-b101-4060-f25e-1b69c8de7ac6"
      },
      "execution_count": 11,
      "outputs": [
        {
          "output_type": "stream",
          "name": "stdout",
          "text": [
            "+----+--------------------+--------------------+----------+------------------------------+---------------+----------------------+----------------------------+--------------------+\n",
            "|Rank|             Country|Cost of Living Index|Rent Index|Cost of Living Plus Rent Index|Groceries Index|Restaurant Price Index|Local Purchasing Power Index|Independant Features|\n",
            "+----+--------------------+--------------------+----------+------------------------------+---------------+----------------------+----------------------------+--------------------+\n",
            "|   1|         Afghanistan|               20.37|      2.72|                         12.09|          14.92|                 12.41|                       23.04|[2.72,12.09,14.92...|\n",
            "|   2|             Albania|                35.5|      8.47|                         22.83|          29.32|                 25.82|                       30.19|[8.47,22.83,29.32...|\n",
            "|   3|             Algeria|               26.87|      4.59|                         16.43|          28.82|                 14.48|                       24.63|[4.59,16.43,28.82...|\n",
            "|   4|           Argentina|               34.69|      7.71|                         22.04|          28.17|                 33.32|                       30.72|[7.71,22.04,28.17...|\n",
            "|   5|             Armenia|               33.89|     11.61|                         23.45|          27.59|                 30.55|                       28.86|[11.61,23.45,27.5...|\n",
            "|   6|           Australia|               77.75|     36.84|                         58.57|          77.44|                 72.95|                      104.63|[36.84,58.57,77.4...|\n",
            "|   7|             Austria|               71.04|     27.13|                         50.46|          65.88|                 66.03|                       77.25|[27.13,50.46,65.8...|\n",
            "|   8|          Azerbaijan|               29.73|      7.86|                         19.48|          26.57|                 26.73|                       27.26|[7.86,19.48,26.57...|\n",
            "|   9|             Bahamas|                84.0|     35.34|                         61.19|          70.59|                 89.09|                       45.07|[35.34,61.19,70.5...|\n",
            "|  10|             Bahrain|               54.77|     29.22|                         42.79|          44.59|                 48.94|                       61.41|[29.22,42.79,44.5...|\n",
            "|  11|          Bangladesh|               33.13|      4.42|                         19.67|          30.41|                  21.7|                        25.3|[4.42,19.67,30.41...|\n",
            "|  12|            Barbados|               92.37|     21.99|                         59.38|          87.81|                 78.18|                       32.08|[21.99,59.38,87.8...|\n",
            "|  13|             Belarus|               30.89|      9.81|                         21.01|          27.24|                 31.64|                       31.78|[9.81,21.01,27.24...|\n",
            "|  14|             Belgium|               72.61|     25.79|                         50.67|          63.32|                 78.63|                       79.72|[25.79,50.67,63.3...|\n",
            "|  15|              Belize|                51.3|     11.64|                         32.71|          48.76|                  36.6|                       45.73|[11.64,32.71,48.7...|\n",
            "|  16|             Bermuda|              146.04|     98.58|                         123.8|         148.66|                159.17|                       81.07|[98.58,123.8,148....|\n",
            "|  17|             Bolivia|               34.77|     10.18|                         23.24|          31.26|                 24.97|                       36.04|[10.18,23.24,31.2...|\n",
            "|  18|Bosnia And Herzeg...|               36.12|      6.82|                         22.39|          31.14|                 25.34|                        44.1|[6.82,22.39,31.14...|\n",
            "|  19|            Botswana|               40.17|     10.21|                         26.12|          35.16|                  42.5|                       62.63|[10.21,26.12,35.1...|\n",
            "|  20|              Brazil|               33.24|      8.27|                         21.54|          28.16|                 25.24|                       27.85|[8.27,21.54,28.16...|\n",
            "+----+--------------------+--------------------+----------+------------------------------+---------------+----------------------+----------------------------+--------------------+\n",
            "only showing top 20 rows\n",
            "\n"
          ]
        }
      ]
    },
    {
      "cell_type": "code",
      "source": [
        "output.columns"
      ],
      "metadata": {
        "colab": {
          "base_uri": "https://localhost:8080/"
        },
        "id": "OQ4z1MfN27-W",
        "outputId": "5f8257c8-1067-4831-caad-1721c27c3cfa"
      },
      "execution_count": 12,
      "outputs": [
        {
          "output_type": "execute_result",
          "data": {
            "text/plain": [
              "['Rank',\n",
              " 'Country',\n",
              " 'Cost of Living Index',\n",
              " 'Rent Index',\n",
              " 'Cost of Living Plus Rent Index',\n",
              " 'Groceries Index',\n",
              " 'Restaurant Price Index',\n",
              " 'Local Purchasing Power Index',\n",
              " 'Independant Features']"
            ]
          },
          "metadata": {},
          "execution_count": 12
        }
      ]
    },
    {
      "cell_type": "code",
      "source": [
        "df = df_train"
      ],
      "metadata": {
        "id": "jYXq902D5zPG"
      },
      "execution_count": 17,
      "outputs": []
    },
    {
      "cell_type": "code",
      "source": [
        "df.describe()"
      ],
      "metadata": {
        "colab": {
          "base_uri": "https://localhost:8080/"
        },
        "id": "IvAmkvmK7LvM",
        "outputId": "ad447c4f-0883-4f66-d928-e6a31841b8fd"
      },
      "execution_count": 15,
      "outputs": [
        {
          "output_type": "execute_result",
          "data": {
            "text/plain": [
              "DataFrame[summary: string, Rank: string, Country: string, Cost of Living Index: string, Rent Index: string, Cost of Living Plus Rent Index: string, Groceries Index: string, Restaurant Price Index: string, Local Purchasing Power Index: string]"
            ]
          },
          "metadata": {},
          "execution_count": 15
        }
      ]
    },
    {
      "cell_type": "code",
      "source": [
        "# The .select() is a transformation function that is used to select the columns from DataFrame and Dataset\n",
        "fin_output= output.select(\"Independant Features\", \"Cost of Living Index\")"
      ],
      "metadata": {
        "id": "U1eUxzJm21Pn"
      },
      "execution_count": 18,
      "outputs": []
    },
    {
      "cell_type": "code",
      "source": [
        "df.describe()"
      ],
      "metadata": {
        "colab": {
          "base_uri": "https://localhost:8080/"
        },
        "id": "NtOYw8TL_cxU",
        "outputId": "c7638e81-4258-4bc7-9663-da3c35e78b51"
      },
      "execution_count": 19,
      "outputs": [
        {
          "output_type": "execute_result",
          "data": {
            "text/plain": [
              "DataFrame[summary: string, Rank: string, Country: string, Cost of Living Index: string, Rent Index: string, Cost of Living Plus Rent Index: string, Groceries Index: string, Restaurant Price Index: string, Local Purchasing Power Index: string]"
            ]
          },
          "metadata": {},
          "execution_count": 19
        }
      ]
    },
    {
      "cell_type": "code",
      "source": [
        "#Count number of observation in the given dataset\n",
        "row = df.count()\n",
        "print(row)"
      ],
      "metadata": {
        "colab": {
          "base_uri": "https://localhost:8080/"
        },
        "id": "A1xsUHMS8OYj",
        "outputId": "cacfc3e4-5c94-44d9-ac8d-db90c7cd5211"
      },
      "execution_count": 20,
      "outputs": [
        {
          "output_type": "stream",
          "name": "stdout",
          "text": [
            "139\n"
          ]
        }
      ]
    },
    {
      "cell_type": "code",
      "source": [
        "# Provide Summary Statistics of all columns (count, mean, stddev,min, max)\n",
        "df.describe().show(vertical=True)"
      ],
      "metadata": {
        "colab": {
          "base_uri": "https://localhost:8080/"
        },
        "id": "-SneiUzp8Qeu",
        "outputId": "a3fdbf6c-fbce-4f9c-ca71-293073bd7c2d"
      },
      "execution_count": 21,
      "outputs": [
        {
          "output_type": "stream",
          "name": "stdout",
          "text": [
            "-RECORD 0--------------------------------------------\n",
            " summary                        | count              \n",
            " Rank                           | 139                \n",
            " Country                        | 139                \n",
            " Cost of Living Index           | 139                \n",
            " Rent Index                     | 139                \n",
            " Cost of Living Plus Rent Index | 139                \n",
            " Groceries Index                | 139                \n",
            " Restaurant Price Index         | 139                \n",
            " Local Purchasing Power Index   | 139                \n",
            "-RECORD 1--------------------------------------------\n",
            " summary                        | mean               \n",
            " Rank                           | 70.0               \n",
            " Country                        | null               \n",
            " Cost of Living Index           | 50.18863309352518  \n",
            " Rent Index                     | 19.29151079136691  \n",
            " Cost of Living Plus Rent Index | 35.70532374100718  \n",
            " Groceries Index                | 46.637841726618696 \n",
            " Restaurant Price Index         | 43.44489208633094  \n",
            " Local Purchasing Power Index   | 46.42625899280576  \n",
            "-RECORD 2--------------------------------------------\n",
            " summary                        | stddev             \n",
            " Rank                           | 40.26992260567019  \n",
            " Country                        | null               \n",
            " Cost of Living Index           | 20.86022212150693  \n",
            " Rent Index                     | 15.317725590510719 \n",
            " Cost of Living Plus Rent Index | 17.54252276001763  \n",
            " Groceries Index                | 20.952228748059234 \n",
            " Restaurant Price Index         | 24.885968963582393 \n",
            " Local Purchasing Power Index   | 26.921840287286745 \n",
            "-RECORD 3--------------------------------------------\n",
            " summary                        | min                \n",
            " Rank                           | 1                  \n",
            " Country                        | Afghanistan        \n",
            " Cost of Living Index           | 19.92              \n",
            " Rent Index                     | 2.72               \n",
            " Cost of Living Plus Rent Index | 12.09              \n",
            " Groceries Index                | 14.92              \n",
            " Restaurant Price Index         | 12.41              \n",
            " Local Purchasing Power Index   | 1.45               \n",
            "-RECORD 4--------------------------------------------\n",
            " summary                        | max                \n",
            " Rank                           | 139                \n",
            " Country                        | Zimbabwe           \n",
            " Cost of Living Index           | 146.04             \n",
            " Rent Index                     | 98.58              \n",
            " Cost of Living Plus Rent Index | 123.8              \n",
            " Groceries Index                | 148.66             \n",
            " Restaurant Price Index         | 159.17             \n",
            " Local Purchasing Power Index   | 118.44             \n",
            "\n"
          ]
        }
      ]
    },
    {
      "cell_type": "code",
      "source": [
        "df.printSchema()"
      ],
      "metadata": {
        "colab": {
          "base_uri": "https://localhost:8080/"
        },
        "id": "pdN562KG7SV3",
        "outputId": "a630c6cb-5b70-489d-d408-75d4985da773"
      },
      "execution_count": 22,
      "outputs": [
        {
          "output_type": "stream",
          "name": "stdout",
          "text": [
            "root\n",
            " |-- Rank: integer (nullable = true)\n",
            " |-- Country: string (nullable = true)\n",
            " |-- Cost of Living Index: double (nullable = true)\n",
            " |-- Rent Index: double (nullable = true)\n",
            " |-- Cost of Living Plus Rent Index: double (nullable = true)\n",
            " |-- Groceries Index: double (nullable = true)\n",
            " |-- Restaurant Price Index: double (nullable = true)\n",
            " |-- Local Purchasing Power Index: double (nullable = true)\n",
            "\n"
          ]
        }
      ]
    },
    {
      "cell_type": "code",
      "source": [
        ""
      ],
      "metadata": {
        "id": "trFWiPZwgD7q"
      },
      "execution_count": null,
      "outputs": []
    },
    {
      "cell_type": "code",
      "source": [
        "fin_output.show()"
      ],
      "metadata": {
        "colab": {
          "base_uri": "https://localhost:8080/"
        },
        "id": "UNTBzumy3BjH",
        "outputId": "b9d5b3fd-006a-432d-c271-0834ff41701b"
      },
      "execution_count": 23,
      "outputs": [
        {
          "output_type": "stream",
          "name": "stdout",
          "text": [
            "+--------------------+--------------------+\n",
            "|Independant Features|Cost of Living Index|\n",
            "+--------------------+--------------------+\n",
            "|[2.72,12.09,14.92...|               20.37|\n",
            "|[8.47,22.83,29.32...|                35.5|\n",
            "|[4.59,16.43,28.82...|               26.87|\n",
            "|[7.71,22.04,28.17...|               34.69|\n",
            "|[11.61,23.45,27.5...|               33.89|\n",
            "|[36.84,58.57,77.4...|               77.75|\n",
            "|[27.13,50.46,65.8...|               71.04|\n",
            "|[7.86,19.48,26.57...|               29.73|\n",
            "|[35.34,61.19,70.5...|                84.0|\n",
            "|[29.22,42.79,44.5...|               54.77|\n",
            "|[4.42,19.67,30.41...|               33.13|\n",
            "|[21.99,59.38,87.8...|               92.37|\n",
            "|[9.81,21.01,27.24...|               30.89|\n",
            "|[25.79,50.67,63.3...|               72.61|\n",
            "|[11.64,32.71,48.7...|                51.3|\n",
            "|[98.58,123.8,148....|              146.04|\n",
            "|[10.18,23.24,31.2...|               34.77|\n",
            "|[6.82,22.39,31.14...|               36.12|\n",
            "|[10.21,26.12,35.1...|               40.17|\n",
            "|[8.27,21.54,28.16...|               33.24|\n",
            "+--------------------+--------------------+\n",
            "only showing top 20 rows\n",
            "\n"
          ]
        }
      ]
    },
    {
      "cell_type": "code",
      "source": [
        "from pyspark.ml.regression import LinearRegression\n",
        "\n",
        "#train_test_split\n",
        "#featuresCol will be the input column and labelCol will be the target column\n",
        "train_X, test_X= fin_output.randomSplit([0.8, 0.2])\n",
        "reg=LinearRegression(featuresCol='Independant Features', labelCol='Cost of Living Index')\n",
        "reg=reg.fit(train_X)"
      ],
      "metadata": {
        "id": "F96fyAQ03Cxx"
      },
      "execution_count": 24,
      "outputs": []
    },
    {
      "cell_type": "code",
      "source": [
        "#Find out model coefficients and intercept\n",
        "coeff = reg.coefficients\n",
        "intr = reg.intercept\n",
        "\n",
        "print(\"The coef of Model is : %a\" %coeff)\n",
        "print(\"The Intercept of the model is: %f\" %intr)"
      ],
      "metadata": {
        "colab": {
          "base_uri": "https://localhost:8080/"
        },
        "id": "HCsJk2je3Q92",
        "outputId": "6d255dc7-698d-4a47-9ca1-a7f439147171"
      },
      "execution_count": 25,
      "outputs": [
        {
          "output_type": "stream",
          "name": "stdout",
          "text": [
            "The coef of Model is : DenseVector([-0.8825, 1.8828, -0.0001, -0.0001, 0.0])\n",
            "The Intercept of the model is: -0.001972\n"
          ]
        }
      ]
    },
    {
      "cell_type": "code",
      "source": [
        "#Model Evaluation\n",
        "pred=reg.evaluate(test_X)"
      ],
      "metadata": {
        "id": "CtM2RtKy3Zhx"
      },
      "execution_count": 26,
      "outputs": []
    },
    {
      "cell_type": "code",
      "source": [
        "pred.predictions.show()"
      ],
      "metadata": {
        "colab": {
          "base_uri": "https://localhost:8080/"
        },
        "id": "9ntJbz1Z3jYw",
        "outputId": "f06f64f9-8a87-4ab6-858e-d78ceb63ad44"
      },
      "execution_count": 27,
      "outputs": [
        {
          "output_type": "stream",
          "name": "stdout",
          "text": [
            "+--------------------+--------------------+------------------+\n",
            "|Independant Features|Cost of Living Index|        prediction|\n",
            "+--------------------+--------------------+------------------+\n",
            "|[2.72,12.09,14.92...|               20.37|20.357910529665794|\n",
            "|[4.42,19.67,30.41...|               33.13| 33.12617823686308|\n",
            "|[6.06,19.51,26.95...|               31.38|31.378456346994547|\n",
            "|[7.71,22.04,28.17...|               34.69| 34.68357321875519|\n",
            "|[8.04,18.14,24.84...|               27.05|27.052418369866928|\n",
            "|[8.18,18.03,23.47...|               26.72|26.721275043310545|\n",
            "|[8.47,22.83,29.32...|                35.5|35.501186074309146|\n",
            "|[9.07,24.64,34.02...|               38.38| 38.37870744731425|\n",
            "|[9.19,22.1,31.0,2...|                33.5|33.490502574220685|\n",
            "|[9.23,30.46,40.81...|               49.19|49.192664801569535|\n",
            "|[9.26,21.9,31.53,...|               33.04|33.053690090224286|\n",
            "|[9.44,19.66,25.35...|               28.68|28.677014535978717|\n",
            "|[9.59,26.68,38.45...|               41.77| 41.75886506969172|\n",
            "|[10.17,23.49,31.3...|               35.24| 35.24343879204359|\n",
            "|[11.77,31.26,38.3...|               48.45| 48.45821287102758|\n",
            "|[11.91,27.18,35.1...|               40.66| 40.65462562576235|\n",
            "|[12.68,35.81,44.7...|               56.22|  56.2191006961425|\n",
            "|[14.69,29.84,45.1...|               43.21| 43.20894361227728|\n",
            "|[15.6,30.42,41.92...|               43.49|43.496500220775516|\n",
            "|[15.68,33.44,50.6...|               49.11| 49.11183904309793|\n",
            "+--------------------+--------------------+------------------+\n",
            "only showing top 20 rows\n",
            "\n"
          ]
        }
      ]
    },
    {
      "cell_type": "code",
      "source": [
        "pred.meanAbsoluteError, pred.meanSquaredError"
      ],
      "metadata": {
        "colab": {
          "base_uri": "https://localhost:8080/"
        },
        "id": "NjkeykvX3yxa",
        "outputId": "c972c831-8758-4bc7-a939-5f3a04440375"
      },
      "execution_count": 28,
      "outputs": [
        {
          "output_type": "execute_result",
          "data": {
            "text/plain": [
              "(0.005146341635943281, 4.039890539319501e-05)"
            ]
          },
          "metadata": {},
          "execution_count": 28
        }
      ]
    },
    {
      "cell_type": "code",
      "source": [
        "pred.r2"
      ],
      "metadata": {
        "colab": {
          "base_uri": "https://localhost:8080/"
        },
        "id": "SXK9A7ioNBRj",
        "outputId": "070c633f-dffd-4704-8ae4-167eb999fc62"
      },
      "execution_count": 29,
      "outputs": [
        {
          "output_type": "execute_result",
          "data": {
            "text/plain": [
              "0.99999977656948"
            ]
          },
          "metadata": {},
          "execution_count": 29
        }
      ]
    },
    {
      "cell_type": "code",
      "source": [
        "pred.rootMeanSquaredError"
      ],
      "metadata": {
        "colab": {
          "base_uri": "https://localhost:8080/"
        },
        "id": "4y2LbiVdNIoX",
        "outputId": "fbed5600-ad92-4c1d-c95c-e62d932e81b5"
      },
      "execution_count": 30,
      "outputs": [
        {
          "output_type": "execute_result",
          "data": {
            "text/plain": [
              "0.006356013325441901"
            ]
          },
          "metadata": {},
          "execution_count": 30
        }
      ]
    },
    {
      "cell_type": "code",
      "source": [
        "#Plot Rent Index column on a 2D Plot\n",
        "!pip install pyspark_dist_explore\n",
        "from pyspark_dist_explore import hist\n",
        "import matplotlib.pyplot as plt\n",
        "fig, ax = plt.subplots()\n",
        "hist(ax, df.select('Rent Index'), color = ['blue'])"
      ],
      "metadata": {
        "colab": {
          "base_uri": "https://localhost:8080/",
          "height": 642
        },
        "id": "2mXj-_pF8qc_",
        "outputId": "6411e341-9512-4a99-d111-9322586ecb67"
      },
      "execution_count": 31,
      "outputs": [
        {
          "output_type": "stream",
          "name": "stdout",
          "text": [
            "Looking in indexes: https://pypi.org/simple, https://us-python.pkg.dev/colab-wheels/public/simple/\n",
            "Collecting pyspark_dist_explore\n",
            "  Downloading pyspark_dist_explore-0.1.8-py3-none-any.whl (7.2 kB)\n",
            "Requirement already satisfied: numpy in /usr/local/lib/python3.7/dist-packages (from pyspark_dist_explore) (1.21.6)\n",
            "Requirement already satisfied: matplotlib in /usr/local/lib/python3.7/dist-packages (from pyspark_dist_explore) (3.2.2)\n",
            "Requirement already satisfied: scipy in /usr/local/lib/python3.7/dist-packages (from pyspark_dist_explore) (1.4.1)\n",
            "Requirement already satisfied: pandas in /usr/local/lib/python3.7/dist-packages (from pyspark_dist_explore) (1.3.5)\n",
            "Requirement already satisfied: python-dateutil>=2.1 in /usr/local/lib/python3.7/dist-packages (from matplotlib->pyspark_dist_explore) (2.8.2)\n",
            "Requirement already satisfied: pyparsing!=2.0.4,!=2.1.2,!=2.1.6,>=2.0.1 in /usr/local/lib/python3.7/dist-packages (from matplotlib->pyspark_dist_explore) (3.0.9)\n",
            "Requirement already satisfied: cycler>=0.10 in /usr/local/lib/python3.7/dist-packages (from matplotlib->pyspark_dist_explore) (0.11.0)\n",
            "Requirement already satisfied: kiwisolver>=1.0.1 in /usr/local/lib/python3.7/dist-packages (from matplotlib->pyspark_dist_explore) (1.4.3)\n",
            "Requirement already satisfied: typing-extensions in /usr/local/lib/python3.7/dist-packages (from kiwisolver>=1.0.1->matplotlib->pyspark_dist_explore) (4.1.1)\n",
            "Requirement already satisfied: six>=1.5 in /usr/local/lib/python3.7/dist-packages (from python-dateutil>=2.1->matplotlib->pyspark_dist_explore) (1.15.0)\n",
            "Requirement already satisfied: pytz>=2017.3 in /usr/local/lib/python3.7/dist-packages (from pandas->pyspark_dist_explore) (2022.1)\n",
            "Installing collected packages: pyspark-dist-explore\n",
            "Successfully installed pyspark-dist-explore-0.1.8\n"
          ]
        },
        {
          "output_type": "execute_result",
          "data": {
            "text/plain": [
              "(array([59., 41., 15., 11.,  6.,  3.,  2.,  1.,  0.,  1.]),\n",
              " array([ 2.72 , 12.306, 21.892, 31.478, 41.064, 50.65 , 60.236, 69.822,\n",
              "        79.408, 88.994, 98.58 ]),\n",
              " <a list of 10 Patch objects>)"
            ]
          },
          "metadata": {},
          "execution_count": 31
        },
        {
          "output_type": "display_data",
          "data": {
            "text/plain": [
              "<Figure size 432x288 with 1 Axes>"
            ],
            "image/png": "[encoded data removed]"
          },
          "metadata": {
            "needs_background": "light"
          }
        }
      ]
    },
    {
      "cell_type": "code",
      "source": [
        "#Linear Regression Model\n",
        "from pyspark.ml.evaluation import RegressionEvaluator\n",
        "eval = RegressionEvaluator(labelCol = \"Cost of Living Index\", predictionCol = \"prediction\", metricName = \"rmse\")\n"
      ],
      "metadata": {
        "id": "6cmFhWbTG_VQ"
      },
      "execution_count": 32,
      "outputs": []
    },
    {
      "cell_type": "code",
      "source": [
        "#Model Performance statistics \n",
        "#Root Mean Square Error\n",
        "rmse = eval.evaluate(pred.predictions)\n",
        "print(\"RMSE : %f\" %rmse)\n",
        "\n",
        "#mean square error\n",
        "\n",
        "mse = eval.evaluate(pred.predictions,{eval.metricName: \"mse\"})\n",
        "\n",
        "print(\"MSE: %.3f\" % mse)\n",
        "\n",
        "\n",
        "\n",
        "#mean absolute error\n",
        "\n",
        "mae = eval.evaluate(pred.predictions,{eval.metricName: \"mae\"})\n",
        "\n",
        "print(\"MAE: %.3f\" % mae)\n",
        "\n",
        "\n",
        "\n",
        "#r2 - coefficient\n",
        "\n",
        "r2 = eval.evaluate(pred.predictions,{eval.metricName: \"r2\"})\n",
        "\n",
        "print(\"r2: %.3f\" % r2)"
      ],
      "metadata": {
        "colab": {
          "base_uri": "https://localhost:8080/"
        },
        "id": "9cHi90eBHe7Y",
        "outputId": "29f150da-74b8-4f5c-b14f-cd50bad59472"
      },
      "execution_count": 33,
      "outputs": [
        {
          "output_type": "stream",
          "name": "stdout",
          "text": [
            "RMSE : 0.006356\n",
            "MSE: 0.000\n",
            "MAE: 0.005\n",
            "r2: 1.000\n"
          ]
        }
      ]
    }
  ]
}